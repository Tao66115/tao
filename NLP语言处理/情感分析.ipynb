{
 "nbformat": 4,
 "nbformat_minor": 2,
 "metadata": {
  "language_info": {
   "name": "python",
   "codemirror_mode": {
    "name": "ipython",
    "version": 3
   },
   "version": "3.7.4"
  },
  "orig_nbformat": 2,
  "file_extension": ".py",
  "mimetype": "text/x-python",
  "name": "python",
  "npconvert_exporter": "python",
  "pygments_lexer": "ipython3",
  "version": 3
 },
 "cells": [
  {
   "cell_type": "code",
   "execution_count": 1,
   "metadata": {},
   "outputs": [
    {
     "name": "stderr",
     "output_type": "stream",
     "text": "[nltk_data] Downloading package movie_reviews to\n[nltk_data]     C:\\Users\\Tao\\AppData\\Roaming\\nltk_data...\n[nltk_data]   Unzipping corpora\\movie_reviews.zip.\n"
    }
   ],
   "source": [
    "import nltk\n",
    "if __name__ == '__main__': \n",
    "    nltk.download('movie_reviews')"
   ]
  },
  {
   "cell_type": "code",
   "execution_count": 2,
   "metadata": {},
   "outputs": [
    {
     "name": "stdout",
     "output_type": "stream",
     "text": "\nAccuracy of the classifier: 0.735\n\nTop 10 most informative words:\noutstanding\ninsulting\nvulnerable\nludicrous\nuninvolving\navoids\nastounding\nfascination\nsymbol\nanimators\n\nPredictions:\n\nReview: It is an amazing movie\nPredicted sentiment: Positive\nProbability: 0.61\n\nReview: This is a dull movie. I would never recommend it to anyone.\nPredicted sentiment: Negative\nProbability: 0.77\n\nReview: A complete and utter destruction of one of the most iconic superheroes. 0.1 effort and thought put into the storyline. A coming of age awkward teenage movie with a 'spiderman' stamp put on it. Bad jokes aimed at teenagers (at best). A complete caricature of a villain, a complete caricature of a Spiderman. Just please stop making this garbage Put some god damn effort! A total waste of time\nPredicted sentiment: Negative\nProbability: 0.99\n\nReview: Just staving off some negative reviews. Fits well into the Marvel movies to date and is an excellent follow up to Avengers: Endgame.\nPredicted sentiment: Positive\nProbability: 0.92\n"
    }
   ],
   "source": [
    "import nltk.classify.util\n",
    "from nltk.classify import NaiveBayesClassifier\n",
    "from nltk.corpus import movie_reviews\n",
    "\n",
    "if __name__ == '__main__':    \n",
    "    positive_fileids = movie_reviews.fileids('pos')    \n",
    "    negative_fileids = movie_reviews.fileids('neg')\n",
    "\n",
    "def extract_features(word_list):    \n",
    "    return dict([(word,True) for word in word_list])\n",
    "\n",
    "features_positive = [(extract_features(movie_reviews.words(fileids=[f])), 'Positive') for f in positive_fileids] \n",
    "features_negative = [(extract_features(movie_reviews.words(fileids=[f])), 'Negative') for f in negative_fileids]\n",
    "\n",
    "threshold_factor = 0.8 \n",
    "threshold_positive = int(threshold_factor*len(features_positive)) \n",
    "threshold_negative = int(threshold_factor*len(features_negative)) \n",
    "features_train = features_positive[:threshold_positive] + features_negative[:threshold_negative] \n",
    "features_test = features_positive[threshold_positive:] + features_negative[threshold_negative:] \n",
    "\n",
    "classifier = NaiveBayesClassifier.train(features_train) \n",
    "print (\"\\nAccuracy of the classifier:\", nltk.classify.util.accuracy(classifier, features_test))\n",
    "\n",
    "print (\"\\nTop 10 most informative words:\") \n",
    "for item in classifier.most_informative_features()[:10]:    \n",
    "    print (item[0])\n",
    "\n",
    "input_reviews = [    \"It is an amazing movie\",     \n",
    "                 \"This is a dull movie. I would never recommend it to anyone.\",   \n",
    "                \"A complete and utter destruction of one of the most iconic superheroes. 0.1 effort and thought put into the storyline. A coming of age awkward teenage movie with a 'spiderman' stamp put on it. Bad jokes aimed at teenagers (at best). A complete caricature of a villain, a complete caricature of a Spiderman. Just please stop making this garbage Put some god damn effort! A total waste of time\",   \n",
    "               \"Just staving off some negative reviews. Fits well into the Marvel movies to date and is an excellent follow up to Avengers: Endgame.\" ]\n",
    "\n",
    "\n",
    "\n",
    "\n",
    "print (\"\\nPredictions:\") \n",
    "for review in input_reviews:    \n",
    "    print (\"\\nReview:\", review)    \n",
    "    probdist = classifier.prob_classify(extract_features(review.split() ))    \n",
    "    pred_sentiment = probdist.max()    \n",
    "    print (\"Predicted sentiment:\", pred_sentiment )   \n",
    "    print (\"Probability:\", round(probdist.prob(pred_sentiment), 2))\n"
   ]
  },
  {
   "cell_type": "code",
   "execution_count": null,
   "metadata": {},
   "outputs": [],
   "source": []
  }
 ]
}